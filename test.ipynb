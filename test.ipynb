{
 "cells": [
  {
   "cell_type": "code",
   "execution_count": 2,
   "metadata": {},
   "outputs": [],
   "source": [
    "import pandas as pd\n",
    "import numpy as np\n",
    "from math import radians, sin, cos, sqrt, atan2"
   ]
  },
  {
   "cell_type": "code",
   "execution_count": 4,
   "metadata": {},
   "outputs": [],
   "source": [
    "hoteles = pd.read_csv('hoteles_unicos.csv')\n",
    "categorias = pd.read_csv('categorias_unicas.csv')"
   ]
  },
  {
   "cell_type": "markdown",
   "metadata": {},
   "source": [
    "## 1 endpoint"
   ]
  },
  {
   "cell_type": "code",
   "execution_count": 5,
   "metadata": {},
   "outputs": [],
   "source": [
    "def top_hoteles_por_ubicacion(estado:str, ciudad:str):\n",
    "\n",
    "    estado = estado.upper()\n",
    "    ciudad = ciudad.capitalize()\n",
    "    \n",
    "    hoteles_ubicacion = hoteles[(hoteles['state'] == estado) & (hoteles['city'] == ciudad)]\n",
    "    if hoteles_ubicacion.empty:\n",
    "        return {\"No se encontraron hoteles en la ubicación proporcionada.\"}\n",
    "    else:\n",
    "        top_hoteles = hoteles_ubicacion.nlargest(5, 'bussines_stars')\n",
    "        top_hoteles = top_hoteles[['name', 'bussines_stars']]\n",
    "        return {f'El top de hoteles para tu ubicación es':top_hoteles.to_dict(orient='records')}\n"
   ]
  },
  {
   "cell_type": "code",
   "execution_count": 6,
   "metadata": {},
   "outputs": [
    {
     "data": {
      "text/plain": [
       "{'El top de hoteles para tu ubicación es': [{'name': 'Homewood Suites by Hilton Nashville Vanderbilt, TN',\n",
       "   'bussines_stars': 4.0},\n",
       "  {'name': 'Ghost City Tours Nashville', 'bussines_stars': 4.0},\n",
       "  {'name': 'Moxy Nashville Downtown', 'bussines_stars': 3.5},\n",
       "  {'name': 'Kimpton Aertson Hotel', 'bussines_stars': 3.5},\n",
       "  {'name': 'SpringHill Suites Marriott Nashville Downtown/Convention Center',\n",
       "   'bussines_stars': 3.5}]}"
      ]
     },
     "execution_count": 6,
     "metadata": {},
     "output_type": "execute_result"
    }
   ],
   "source": [
    "top_hoteles_por_ubicacion('Ca', 'NashviLLe')"
   ]
  },
  {
   "cell_type": "markdown",
   "metadata": {},
   "source": [
    "## 2 endpoint"
   ]
  },
  {
   "cell_type": "code",
   "execution_count": 7,
   "metadata": {},
   "outputs": [],
   "source": [
    "def distancia_haversine(lat1, lon1, lat2, lon2):\n",
    "    # Convertir grados a radianes\n",
    "    lat1, lon1, lat2, lon2 = map(radians, [lat1, lon1, lat2, lon2])\n",
    "\n",
    "    # Radio de la Tierra en kilómetros\n",
    "    radio_tierra = 6371.0\n",
    "\n",
    "    # Diferencia de latitud y longitud\n",
    "    dlat = lat2 - lat1\n",
    "    dlon = lon2 - lon1\n",
    "\n",
    "    # Calcular la distancia utilizando la fórmula haversine\n",
    "    a = sin(dlat / 2)**2 + cos(lat1) * cos(lat2) * sin(dlon / 2)**2\n",
    "    c = 2 * atan2(sqrt(a), sqrt(1 - a))\n",
    "    distancia = radio_tierra * c\n",
    "\n",
    "    return distancia\n",
    "\n",
    "# Función para ordenar el DataFrame categorias en función de la cercanía al local indicado\n",
    "def ordenar_por_cercania(local):\n",
    "    #global hoteles, categorias\n",
    "    global hoteles, categorias\n",
    "\n",
    "    # Obtiene las coordenadas del local indicado\n",
    "    latitud_local, longitud_local, ciudad_local, estado_local = hoteles[hoteles['name'] == local][['latitude', 'longitude','city','state']].values[0]\n",
    "\n",
    "    # Filtrar las filas que tienen la misma ciudad y estado que el local\n",
    "    categorias = categorias[(categorias['city'] == ciudad_local) & (categorias['state'] == estado_local)]\n",
    "    \n",
    "    \n",
    "    # Calculamos la distancia entre las coordenadas del local y cada negocio en categorias\n",
    "    categorias['distancia'] = categorias.apply(lambda row: distancia_haversine(latitud_local, longitud_local, row['latitude'], row['longitude']), axis=1)\n",
    "\n",
    "    # Ordena categorias por la distancia calculada\n",
    "    categorias_ordenado = categorias.sort_values(by='distancia')\n",
    "    categorias_ordenado = categorias_ordenado[['name','categories', 'distancia', 'city', 'state']]\n",
    "    \n",
    "    return {f'Los locales mas cercanos son':categorias_ordenado.to_dict(orient='records')}"
   ]
  },
  {
   "cell_type": "code",
   "execution_count": 8,
   "metadata": {},
   "outputs": [
    {
     "data": {
      "text/plain": [
       "{'Los locales mas cercanos son': [{'name': 'Country Music Hall of Fame and Museum',\n",
       "   'categories': 'Arts & Entertainment, Museums',\n",
       "   'distancia': 1.1397484665469897,\n",
       "   'city': 'Nashville',\n",
       "   'state': 'CA'},\n",
       "  {'name': 'Marathon Village',\n",
       "   'categories': 'Party & Event Planning, Event Planning & Services, Home Services, Food, Landmarks & Historical Buildings, Shopping Centers, Real Estate, Convenience Stores, Commercial Real Estate, Shopping, Public Services & Government, Museums, Arts & Entertainment, Venues & Event Spaces, Distilleries',\n",
       "   'distancia': 1.162564736108249,\n",
       "   'city': 'Nashville',\n",
       "   'state': 'CA'},\n",
       "  {'name': 'Sambuca Restaurant',\n",
       "   'categories': 'Music Venues, American (New), Arts & Entertainment, Restaurants, Nightlife, Jazz & Blues, Bars',\n",
       "   'distancia': 1.632240499927073,\n",
       "   'city': 'Nashville',\n",
       "   'state': 'CA'},\n",
       "  {'name': 'Urban Cookhouse',\n",
       "   'categories': 'American (New), Automotive, Caterers, American (Traditional), Event Planning & Services, Comfort Food, Beer, Wine & Spirits, Parking, Sandwiches, Beer Bar, Vegetarian, Breakfast & Brunch, Wine Bars, Restaurants, Bars, Food, Nightlife',\n",
       "   'distancia': 2.1364876779839155,\n",
       "   'city': 'Nashville',\n",
       "   'state': 'CA'},\n",
       "  {'name': 'The Local',\n",
       "   'categories': 'Arts & Entertainment, Nightlife, Music Venues, Jazz & Blues, Bars, Restaurants, Barbeque',\n",
       "   'distancia': 3.456546196607983,\n",
       "   'city': 'Nashville',\n",
       "   'state': 'CA'},\n",
       "  {'name': 'Hillsboro Village',\n",
       "   'categories': 'Shopping, Local Flavor, Public Services & Government, Shopping Centers',\n",
       "   'distancia': 3.5573251291510046,\n",
       "   'city': 'Nashville',\n",
       "   'state': 'CA'},\n",
       "  {'name': 'Midtown Gallery Framers',\n",
       "   'categories': 'Art Galleries, Framing, Arts & Entertainment, Arts & Crafts, Shopping',\n",
       "   'distancia': 5.929689258818121,\n",
       "   'city': 'Nashville',\n",
       "   'state': 'CA'},\n",
       "  {'name': 'Richland Creek Greenway',\n",
       "   'categories': 'Hiking, Active Life, Parks',\n",
       "   'distancia': 6.069372627946706,\n",
       "   'city': 'Nashville',\n",
       "   'state': 'CA'},\n",
       "  {'name': 'Build-A-Bear Workshop',\n",
       "   'categories': 'Kids Activities, Amusement Parks, Toy Stores, Active Life, Shopping',\n",
       "   'distancia': 8.938721729521294,\n",
       "   'city': 'Nashville',\n",
       "   'state': 'CA'},\n",
       "  {'name': 'Fly Away Airport Parking',\n",
       "   'categories': 'Airport Shuttles, Hotels & Travel, Transportation, Parking, Automotive',\n",
       "   'distancia': 12.56692228512573,\n",
       "   'city': 'Nashville',\n",
       "   'state': 'CA'},\n",
       "  {'name': 'Bar Louie',\n",
       "   'categories': 'American (New), Burgers, Beer Bar, Nightlife, Bars, Restaurants',\n",
       "   'distancia': 17.6911366940368,\n",
       "   'city': 'Nashville',\n",
       "   'state': 'CA'},\n",
       "  {'name': 'Corner Pub Bellevue',\n",
       "   'categories': 'Nightlife, Sports Bars, Sandwiches, Bars, Restaurants, Pubs, American (Traditional), Burgers',\n",
       "   'distancia': 20.25617107464974,\n",
       "   'city': 'Nashville',\n",
       "   'state': 'CA'}]}"
      ]
     },
     "execution_count": 8,
     "metadata": {},
     "output_type": "execute_result"
    }
   ],
   "source": [
    "ordenar_por_cercania('Ghost City Tours Nashville')"
   ]
  },
  {
   "cell_type": "markdown",
   "metadata": {},
   "source": [
    "## 3 endpoint"
   ]
  },
  {
   "cell_type": "code",
   "execution_count": 9,
   "metadata": {},
   "outputs": [],
   "source": [
    "# Función para ordenar el DataFrame categorias por 'bussines_stars' de mayor a menor, conservando la distancia\n",
    "def ordenar_por_bussines_stars(local):\n",
    "    global hoteles, categorias\n",
    "    # Obtenemos las coordenadas del local indicado\n",
    "    \n",
    "    latitud_local, longitud_local, ciudad_local, estado_local = hoteles[hoteles['name'] == local][['latitude', 'longitude','city','state']].values[0]\n",
    "    #latitud_local, longitud_local = hoteles[hoteles['name'] == local][['latitude', 'longitude']].values[0]\n",
    "    \n",
    "    # Calculamos la distancia entre las coordenadas del local y cada negocio en categorias\n",
    "    categorias['distancia'] = categorias.apply(lambda row: distancia_haversine(latitud_local, longitud_local, row['latitude'], row['longitude']), axis=1)\n",
    "\n",
    "    # Filtrar las filas que tienen la misma ciudad y estado que el local\n",
    "    #categorias = categorias[(categorias['city'] == ciudad_local) & (categorias['state'] == estado_local)]\n",
    "\n",
    "    # Ordenamos categorias por 'bussines_stars' de mayor a menor\n",
    "    categorias_ordenado = categorias.sort_values(by='bussines_stars', ascending=False)\n",
    "\n",
    "    categorias_ordenado = categorias_ordenado[['name', 'bussines_stars','categories', 'distancia', 'city', 'state']]\n",
    "    return {f'El top de hoteles para tu ubicación es':categorias_ordenado.to_dict(orient='records')}"
   ]
  },
  {
   "cell_type": "code",
   "execution_count": 10,
   "metadata": {},
   "outputs": [
    {
     "data": {
      "text/plain": [
       "{'El top de hoteles para tu ubicación es': [{'name': 'Midtown Gallery Framers',\n",
       "   'bussines_stars': 5.0,\n",
       "   'categories': 'Art Galleries, Framing, Arts & Entertainment, Arts & Crafts, Shopping',\n",
       "   'distancia': 5.929689258818121,\n",
       "   'city': 'Nashville',\n",
       "   'state': 'CA'},\n",
       "  {'name': 'Richland Creek Greenway',\n",
       "   'bussines_stars': 4.5,\n",
       "   'categories': 'Hiking, Active Life, Parks',\n",
       "   'distancia': 6.069372627946706,\n",
       "   'city': 'Nashville',\n",
       "   'state': 'CA'},\n",
       "  {'name': 'Urban Cookhouse',\n",
       "   'bussines_stars': 4.0,\n",
       "   'categories': 'American (New), Automotive, Caterers, American (Traditional), Event Planning & Services, Comfort Food, Beer, Wine & Spirits, Parking, Sandwiches, Beer Bar, Vegetarian, Breakfast & Brunch, Wine Bars, Restaurants, Bars, Food, Nightlife',\n",
       "   'distancia': 2.1364876779839155,\n",
       "   'city': 'Nashville',\n",
       "   'state': 'CA'},\n",
       "  {'name': 'The Local',\n",
       "   'bussines_stars': 4.0,\n",
       "   'categories': 'Arts & Entertainment, Nightlife, Music Venues, Jazz & Blues, Bars, Restaurants, Barbeque',\n",
       "   'distancia': 3.456546196607983,\n",
       "   'city': 'Nashville',\n",
       "   'state': 'CA'},\n",
       "  {'name': 'Build-A-Bear Workshop',\n",
       "   'bussines_stars': 4.0,\n",
       "   'categories': 'Kids Activities, Amusement Parks, Toy Stores, Active Life, Shopping',\n",
       "   'distancia': 8.938721729521294,\n",
       "   'city': 'Nashville',\n",
       "   'state': 'CA'},\n",
       "  {'name': 'Hillsboro Village',\n",
       "   'bussines_stars': 4.0,\n",
       "   'categories': 'Shopping, Local Flavor, Public Services & Government, Shopping Centers',\n",
       "   'distancia': 3.5573251291510046,\n",
       "   'city': 'Nashville',\n",
       "   'state': 'CA'},\n",
       "  {'name': 'Marathon Village',\n",
       "   'bussines_stars': 4.0,\n",
       "   'categories': 'Party & Event Planning, Event Planning & Services, Home Services, Food, Landmarks & Historical Buildings, Shopping Centers, Real Estate, Convenience Stores, Commercial Real Estate, Shopping, Public Services & Government, Museums, Arts & Entertainment, Venues & Event Spaces, Distilleries',\n",
       "   'distancia': 1.162564736108249,\n",
       "   'city': 'Nashville',\n",
       "   'state': 'CA'},\n",
       "  {'name': 'Country Music Hall of Fame and Museum',\n",
       "   'bussines_stars': 4.0,\n",
       "   'categories': 'Arts & Entertainment, Museums',\n",
       "   'distancia': 1.1397484665469897,\n",
       "   'city': 'Nashville',\n",
       "   'state': 'CA'},\n",
       "  {'name': 'Sambuca Restaurant',\n",
       "   'bussines_stars': 4.0,\n",
       "   'categories': 'Music Venues, American (New), Arts & Entertainment, Restaurants, Nightlife, Jazz & Blues, Bars',\n",
       "   'distancia': 1.632240499927073,\n",
       "   'city': 'Nashville',\n",
       "   'state': 'CA'},\n",
       "  {'name': 'Corner Pub Bellevue',\n",
       "   'bussines_stars': 3.5,\n",
       "   'categories': 'Nightlife, Sports Bars, Sandwiches, Bars, Restaurants, Pubs, American (Traditional), Burgers',\n",
       "   'distancia': 20.25617107464974,\n",
       "   'city': 'Nashville',\n",
       "   'state': 'CA'},\n",
       "  {'name': 'Fly Away Airport Parking',\n",
       "   'bussines_stars': 2.5,\n",
       "   'categories': 'Airport Shuttles, Hotels & Travel, Transportation, Parking, Automotive',\n",
       "   'distancia': 12.56692228512573,\n",
       "   'city': 'Nashville',\n",
       "   'state': 'CA'},\n",
       "  {'name': 'Bar Louie',\n",
       "   'bussines_stars': 1.5,\n",
       "   'categories': 'American (New), Burgers, Beer Bar, Nightlife, Bars, Restaurants',\n",
       "   'distancia': 17.6911366940368,\n",
       "   'city': 'Nashville',\n",
       "   'state': 'CA'}]}"
      ]
     },
     "execution_count": 10,
     "metadata": {},
     "output_type": "execute_result"
    }
   ],
   "source": [
    "ordenar_por_bussines_stars('Ghost City Tours Nashville')"
   ]
  }
 ],
 "metadata": {
  "kernelspec": {
   "display_name": ".venv",
   "language": "python",
   "name": "python3"
  },
  "language_info": {
   "codemirror_mode": {
    "name": "ipython",
    "version": 3
   },
   "file_extension": ".py",
   "mimetype": "text/x-python",
   "name": "python",
   "nbconvert_exporter": "python",
   "pygments_lexer": "ipython3",
   "version": "3.12.0"
  }
 },
 "nbformat": 4,
 "nbformat_minor": 2
}
